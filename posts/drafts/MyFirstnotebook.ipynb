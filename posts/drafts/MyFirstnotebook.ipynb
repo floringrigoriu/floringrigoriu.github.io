{
 "cells": [
  {
   "attachments": {},
   "cell_type": "markdown",
   "id": "b52a4d56-5aaa-4a2f-a08b-1b805b287259",
   "metadata": {},
   "source": [
    "# Hello world - 1st notebook"
   ]
  },
  {
   "cell_type": "code",
   "execution_count": 1,
   "id": "9b0d6813-fb0a-4487-9de0-9c170365eaee",
   "metadata": {},
   "outputs": [
    {
     "name": "stdout",
     "output_type": "stream",
     "text": [
      "hello world\n"
     ]
    }
   ],
   "source": [
    "print(\"hello world\")"
   ]
  },
  {
   "attachments": {},
   "cell_type": "markdown",
   "id": "b6ad68aa",
   "metadata": {},
   "source": [
    "BTW : Jupyter Notebooks are kind of ugly when observed in github. You can use nbviewer to render them in a better way."
   ]
  }
 ],
 "metadata": {
  "kernelspec": {
   "display_name": "Python 3 (ipykernel)",
   "language": "python",
   "name": "python3"
  },
  "language_info": {
   "codemirror_mode": {
    "name": "ipython",
    "version": 3
   },
   "file_extension": ".py",
   "mimetype": "text/x-python",
   "name": "python",
   "nbconvert_exporter": "python",
   "pygments_lexer": "ipython3",
   "version": "3.10.9"
  }
 },
 "nbformat": 4,
 "nbformat_minor": 5
}
